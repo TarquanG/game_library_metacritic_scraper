{
 "cells": [
  {
   "cell_type": "code",
   "execution_count": 1,
   "metadata": {},
   "outputs": [],
   "source": [
    "import pandas as pd\n",
    "import requests\n",
    "from bs4 import BeautifulSoup"
   ]
  },
  {
   "cell_type": "code",
   "execution_count": 10,
   "metadata": {
    "scrolled": true
   },
   "outputs": [],
   "source": [
    "# Import gaming list\n",
    "df = pd.read_csv (r'Games_owned.csv') #has a column named 'Link' with URLs for Metacritic for each game owned"
   ]
  },
  {
   "cell_type": "code",
   "execution_count": 5,
   "metadata": {
    "scrolled": false
   },
   "outputs": [],
   "source": [
    "#Scrape metacritic data\n",
    "title = []\n",
    "release_date = []\n",
    "description = []\n",
    "metascore = []\n",
    "user_score = []\n",
    "for game_url in df.Link:\n",
    "    if isinstance(game_url, str): \n",
    "        if \"https\" in game_url: #If link is a URL, as some games/collections did not have a page\n",
    "            user_agent = {'User-agent': 'Mozilla/5.0'}\n",
    "            response  = requests.get(game_url, headers = user_agent)\n",
    "            soup = BeautifulSoup(response.text, 'html.parser') #Use Soup to scrape site data\n",
    "            title.append(soup.find('h1').text)\n",
    "            release_date.append(soup.find('li', class_ = 'summary_detail release_data').find('span', class_ = 'data').text)\n",
    "            if soup.find('span', class_ = 'blurb blurb_expanded') == None:\n",
    "                description.append('No Summary')\n",
    "            else:\n",
    "                description.append(soup.find('span', class_ = 'blurb blurb_expanded').text)\n",
    "            if soup.find('span', itemprop = 'ratingValue') == None:\n",
    "                metascore.append('No Score') \n",
    "            else:\n",
    "                metascore.append(soup.find('span', itemprop = 'ratingValue').text)\n",
    "            if soup.find('div', class_=lambda class_: class_ and class_.startswith('metascore_w user')) == None:\n",
    "                user_score.append('No Score') \n",
    "            else:\n",
    "                user_score.append(soup.find('div', class_=lambda class_: class_ and class_.startswith('metascore_w user')).text)\n",
    "            "
   ]
  },
  {
   "cell_type": "code",
   "execution_count": 7,
   "metadata": {
    "scrolled": true
   },
   "outputs": [],
   "source": [
    "#Build dataframe from lists\n",
    "game_library = pd.DataFrame(list(zip(title,release_date,description,metascore,user_score)),columns = ['Title', 'Release Date', \n",
    "                                                                                                     'Description', 'MetaScore',\n",
    "                                                                                                     'User Score'])"
   ]
  },
  {
   "cell_type": "code",
   "execution_count": 8,
   "metadata": {},
   "outputs": [
    {
     "name": "stdout",
     "output_type": "stream",
     "text": [
      "                       Title        Release Date  \\\n",
      "0               Apex Legends        Feb  4, 2019   \n",
      "1     Counter-Strike: Source        Oct  7, 2004   \n",
      "2                  Destiny 2        Oct 24, 2017   \n",
      "3                   Golf It!  TBA - Early Access   \n",
      "4                Half-Life 2        Nov 16, 2004   \n",
      "..                       ...                 ...   \n",
      "330     Halo: Combat Evolved        Sep 30, 2003   \n",
      "331                Fallout 3        Oct 28, 2008   \n",
      "332  Tomb Raider: Underworld        Nov 18, 2008   \n",
      "333                 BioShock        Aug 21, 2007   \n",
      "334              Mass Effect        May 28, 2008   \n",
      "\n",
      "                                           Description MetaScore User Score  \n",
      "0    Conquer with character in Apex Legends, a free...        88        6.0  \n",
      "1    Valve has taken a large selection of the maps ...        88        8.9  \n",
      "2    In Destiny 2, the last safe city on Earth has ...        83        4.3  \n",
      "3    Golf It! is a multiplayer Minigolf game with f...  No Score   No Score  \n",
      "4    [Metacritic's 2004 PC Game of the Year]  By ta...        96        9.2  \n",
      "..                                                 ...       ...        ...  \n",
      "330  In a desperate attempt to keep a conquering al...        83        7.7  \n",
      "331  [Metacritic's 2008 PC Game of the Year] Vault-...        91        7.8  \n",
      "332  Master your surroundings: Reach new heights wi...        80        7.7  \n",
      "333  Going beyond \"run and gun corridors,\" \"monster...        96        8.6  \n",
      "334  As the first human on the galactic stage, you ...        89        8.6  \n",
      "\n",
      "[335 rows x 5 columns]\n"
     ]
    }
   ],
   "source": [
    "print(game_library)"
   ]
  },
  {
   "cell_type": "code",
   "execution_count": 9,
   "metadata": {},
   "outputs": [],
   "source": [
    "game_library.to_csv('game_library.csv')"
   ]
  },
  {
   "cell_type": "code",
   "execution_count": null,
   "metadata": {},
   "outputs": [],
   "source": []
  }
 ],
 "metadata": {
  "kernelspec": {
   "display_name": "Python 3",
   "language": "python",
   "name": "python3"
  },
  "language_info": {
   "codemirror_mode": {
    "name": "ipython",
    "version": 3
   },
   "file_extension": ".py",
   "mimetype": "text/x-python",
   "name": "python",
   "nbconvert_exporter": "python",
   "pygments_lexer": "ipython3",
   "version": "3.7.6"
  }
 },
 "nbformat": 4,
 "nbformat_minor": 4
}
